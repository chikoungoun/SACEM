{
 "cells": [
  {
   "cell_type": "code",
   "execution_count": 1,
   "metadata": {},
   "outputs": [],
   "source": [
    "import  pandas as pd\n",
    "import numpy as np"
   ]
  },
  {
   "cell_type": "code",
   "execution_count": 2,
   "metadata": {},
   "outputs": [],
   "source": [
    "pd.set_option('display.float_format', lambda x: '%.2f' % x)"
   ]
  },
  {
   "cell_type": "markdown",
   "metadata": {},
   "source": [
    "### Importer Inventaire"
   ]
  },
  {
   "cell_type": "code",
   "execution_count": 3,
   "metadata": {},
   "outputs": [],
   "source": [
    "inv = pd.read_excel('Inventaire.xlsx',index_col=0)"
   ]
  },
  {
   "cell_type": "code",
   "execution_count": 4,
   "metadata": {},
   "outputs": [
    {
     "data": {
      "text/html": [
       "<div>\n",
       "<style scoped>\n",
       "    .dataframe tbody tr th:only-of-type {\n",
       "        vertical-align: middle;\n",
       "    }\n",
       "\n",
       "    .dataframe tbody tr th {\n",
       "        vertical-align: top;\n",
       "    }\n",
       "\n",
       "    .dataframe thead th {\n",
       "        text-align: right;\n",
       "    }\n",
       "</style>\n",
       "<table border=\"1\" class=\"dataframe\">\n",
       "  <thead>\n",
       "    <tr style=\"text-align: right;\">\n",
       "      <th></th>\n",
       "      <th>Symbole</th>\n",
       "      <th>Désignation</th>\n",
       "      <th>Emplacement</th>\n",
       "      <th>Qté Comp</th>\n",
       "      <th>Qté Exist</th>\n",
       "      <th>Prix U</th>\n",
       "      <th>Montant Compt</th>\n",
       "      <th>Montant Exis</th>\n",
       "      <th>U d'emploi</th>\n",
       "      <th>Etat</th>\n",
       "      <th>Unnamed: 11</th>\n",
       "    </tr>\n",
       "  </thead>\n",
       "  <tbody>\n",
       "    <tr>\n",
       "      <th>nan</th>\n",
       "      <td>1RA6</td>\n",
       "      <td>Douille à aiguille de centrage réf 620065</td>\n",
       "      <td>-</td>\n",
       "      <td>nan</td>\n",
       "      <td>nan</td>\n",
       "      <td>NaN</td>\n",
       "      <td>nan</td>\n",
       "      <td>nan</td>\n",
       "      <td>NaN</td>\n",
       "      <td>v</td>\n",
       "      <td>nan</td>\n",
       "    </tr>\n",
       "    <tr>\n",
       "      <th>nan</th>\n",
       "      <td>1RA7</td>\n",
       "      <td>Douille d'étanchéité de culasse réf A11299</td>\n",
       "      <td>-</td>\n",
       "      <td>nan</td>\n",
       "      <td>nan</td>\n",
       "      <td>NaN</td>\n",
       "      <td>nan</td>\n",
       "      <td>nan</td>\n",
       "      <td>NaN</td>\n",
       "      <td>v</td>\n",
       "      <td>nan</td>\n",
       "    </tr>\n",
       "    <tr>\n",
       "      <th>nan</th>\n",
       "      <td>1RA8</td>\n",
       "      <td>Ressort de rappel de roue de distribution réf ...</td>\n",
       "      <td>-</td>\n",
       "      <td>nan</td>\n",
       "      <td>nan</td>\n",
       "      <td>NaN</td>\n",
       "      <td>nan</td>\n",
       "      <td>nan</td>\n",
       "      <td>NaN</td>\n",
       "      <td>v</td>\n",
       "      <td>nan</td>\n",
       "    </tr>\n",
       "  </tbody>\n",
       "</table>\n",
       "</div>"
      ],
      "text/plain": [
       "    Symbole                                        Désignation Emplacement  \\\n",
       "nan    1RA6          Douille à aiguille de centrage réf 620065           -   \n",
       "nan    1RA7         Douille d'étanchéité de culasse réf A11299           -   \n",
       "nan    1RA8  Ressort de rappel de roue de distribution réf ...           -   \n",
       "\n",
       "     Qté Comp  Qté Exist Prix U  Montant Compt  Montant Exis U d'emploi Etat  \\\n",
       "nan       nan        nan    NaN            nan           nan        NaN    v   \n",
       "nan       nan        nan    NaN            nan           nan        NaN    v   \n",
       "nan       nan        nan    NaN            nan           nan        NaN    v   \n",
       "\n",
       "     Unnamed: 11  \n",
       "nan          nan  \n",
       "nan          nan  \n",
       "nan          nan  "
      ]
     },
     "execution_count": 4,
     "metadata": {},
     "output_type": "execute_result"
    }
   ],
   "source": [
    "inv.head(3)"
   ]
  },
  {
   "cell_type": "markdown",
   "metadata": {},
   "source": [
    "### mettre à jour l'incrémentation"
   ]
  },
  {
   "cell_type": "code",
   "execution_count": 5,
   "metadata": {},
   "outputs": [],
   "source": [
    "inv.reset_index(drop=True,inplace=True)"
   ]
  },
  {
   "cell_type": "code",
   "execution_count": 6,
   "metadata": {},
   "outputs": [
    {
     "data": {
      "text/html": [
       "<div>\n",
       "<style scoped>\n",
       "    .dataframe tbody tr th:only-of-type {\n",
       "        vertical-align: middle;\n",
       "    }\n",
       "\n",
       "    .dataframe tbody tr th {\n",
       "        vertical-align: top;\n",
       "    }\n",
       "\n",
       "    .dataframe thead th {\n",
       "        text-align: right;\n",
       "    }\n",
       "</style>\n",
       "<table border=\"1\" class=\"dataframe\">\n",
       "  <thead>\n",
       "    <tr style=\"text-align: right;\">\n",
       "      <th></th>\n",
       "      <th>Symbole</th>\n",
       "      <th>Désignation</th>\n",
       "      <th>Emplacement</th>\n",
       "      <th>Qté Comp</th>\n",
       "      <th>Qté Exist</th>\n",
       "      <th>Prix U</th>\n",
       "      <th>Montant Compt</th>\n",
       "      <th>Montant Exis</th>\n",
       "      <th>U d'emploi</th>\n",
       "      <th>Etat</th>\n",
       "      <th>Unnamed: 11</th>\n",
       "    </tr>\n",
       "  </thead>\n",
       "  <tbody>\n",
       "    <tr>\n",
       "      <th>0</th>\n",
       "      <td>1RA6</td>\n",
       "      <td>Douille à aiguille de centrage réf 620065</td>\n",
       "      <td>-</td>\n",
       "      <td>nan</td>\n",
       "      <td>nan</td>\n",
       "      <td>NaN</td>\n",
       "      <td>nan</td>\n",
       "      <td>nan</td>\n",
       "      <td>NaN</td>\n",
       "      <td>v</td>\n",
       "      <td>nan</td>\n",
       "    </tr>\n",
       "    <tr>\n",
       "      <th>1</th>\n",
       "      <td>1RA7</td>\n",
       "      <td>Douille d'étanchéité de culasse réf A11299</td>\n",
       "      <td>-</td>\n",
       "      <td>nan</td>\n",
       "      <td>nan</td>\n",
       "      <td>NaN</td>\n",
       "      <td>nan</td>\n",
       "      <td>nan</td>\n",
       "      <td>NaN</td>\n",
       "      <td>v</td>\n",
       "      <td>nan</td>\n",
       "    </tr>\n",
       "    <tr>\n",
       "      <th>2</th>\n",
       "      <td>1RA8</td>\n",
       "      <td>Ressort de rappel de roue de distribution réf ...</td>\n",
       "      <td>-</td>\n",
       "      <td>nan</td>\n",
       "      <td>nan</td>\n",
       "      <td>NaN</td>\n",
       "      <td>nan</td>\n",
       "      <td>nan</td>\n",
       "      <td>NaN</td>\n",
       "      <td>v</td>\n",
       "      <td>nan</td>\n",
       "    </tr>\n",
       "    <tr>\n",
       "      <th>3</th>\n",
       "      <td>1RA9</td>\n",
       "      <td>Vis rotule de culbuteur réf A1244</td>\n",
       "      <td>-</td>\n",
       "      <td>nan</td>\n",
       "      <td>nan</td>\n",
       "      <td>NaN</td>\n",
       "      <td>nan</td>\n",
       "      <td>nan</td>\n",
       "      <td>NaN</td>\n",
       "      <td>v</td>\n",
       "      <td>nan</td>\n",
       "    </tr>\n",
       "    <tr>\n",
       "      <th>4</th>\n",
       "      <td>1RA10</td>\n",
       "      <td>Soupape d'admission réf A1247A</td>\n",
       "      <td>-</td>\n",
       "      <td>nan</td>\n",
       "      <td>nan</td>\n",
       "      <td>NaN</td>\n",
       "      <td>nan</td>\n",
       "      <td>nan</td>\n",
       "      <td>NaN</td>\n",
       "      <td>v</td>\n",
       "      <td>nan</td>\n",
       "    </tr>\n",
       "  </tbody>\n",
       "</table>\n",
       "</div>"
      ],
      "text/plain": [
       "  Symbole                                        Désignation Emplacement  \\\n",
       "0    1RA6          Douille à aiguille de centrage réf 620065           -   \n",
       "1    1RA7         Douille d'étanchéité de culasse réf A11299           -   \n",
       "2    1RA8  Ressort de rappel de roue de distribution réf ...           -   \n",
       "3    1RA9                  Vis rotule de culbuteur réf A1244           -   \n",
       "4   1RA10                     Soupape d'admission réf A1247A           -   \n",
       "\n",
       "   Qté Comp  Qté Exist Prix U  Montant Compt  Montant Exis U d'emploi Etat  \\\n",
       "0       nan        nan    NaN            nan           nan        NaN    v   \n",
       "1       nan        nan    NaN            nan           nan        NaN    v   \n",
       "2       nan        nan    NaN            nan           nan        NaN    v   \n",
       "3       nan        nan    NaN            nan           nan        NaN    v   \n",
       "4       nan        nan    NaN            nan           nan        NaN    v   \n",
       "\n",
       "   Unnamed: 11  \n",
       "0          nan  \n",
       "1          nan  \n",
       "2          nan  \n",
       "3          nan  \n",
       "4          nan  "
      ]
     },
     "execution_count": 6,
     "metadata": {},
     "output_type": "execute_result"
    }
   ],
   "source": [
    "inv.head()"
   ]
  },
  {
   "cell_type": "markdown",
   "metadata": {},
   "source": [
    "### Supprimer les colonnes inutiles"
   ]
  },
  {
   "cell_type": "code",
   "execution_count": 7,
   "metadata": {},
   "outputs": [],
   "source": [
    "inv = inv.drop(['Qté Comp','Montant Compt','Unnamed: 11'],axis=1)"
   ]
  },
  {
   "cell_type": "code",
   "execution_count": 8,
   "metadata": {},
   "outputs": [
    {
     "data": {
      "text/html": [
       "<div>\n",
       "<style scoped>\n",
       "    .dataframe tbody tr th:only-of-type {\n",
       "        vertical-align: middle;\n",
       "    }\n",
       "\n",
       "    .dataframe tbody tr th {\n",
       "        vertical-align: top;\n",
       "    }\n",
       "\n",
       "    .dataframe thead th {\n",
       "        text-align: right;\n",
       "    }\n",
       "</style>\n",
       "<table border=\"1\" class=\"dataframe\">\n",
       "  <thead>\n",
       "    <tr style=\"text-align: right;\">\n",
       "      <th></th>\n",
       "      <th>Symbole</th>\n",
       "      <th>Désignation</th>\n",
       "      <th>Emplacement</th>\n",
       "      <th>Qté Exist</th>\n",
       "      <th>Prix U</th>\n",
       "      <th>Montant Exis</th>\n",
       "      <th>U d'emploi</th>\n",
       "      <th>Etat</th>\n",
       "    </tr>\n",
       "  </thead>\n",
       "  <tbody>\n",
       "    <tr>\n",
       "      <th>0</th>\n",
       "      <td>1RA6</td>\n",
       "      <td>Douille à aiguille de centrage réf 620065</td>\n",
       "      <td>-</td>\n",
       "      <td>nan</td>\n",
       "      <td>NaN</td>\n",
       "      <td>nan</td>\n",
       "      <td>NaN</td>\n",
       "      <td>v</td>\n",
       "    </tr>\n",
       "    <tr>\n",
       "      <th>1</th>\n",
       "      <td>1RA7</td>\n",
       "      <td>Douille d'étanchéité de culasse réf A11299</td>\n",
       "      <td>-</td>\n",
       "      <td>nan</td>\n",
       "      <td>NaN</td>\n",
       "      <td>nan</td>\n",
       "      <td>NaN</td>\n",
       "      <td>v</td>\n",
       "    </tr>\n",
       "    <tr>\n",
       "      <th>2</th>\n",
       "      <td>1RA8</td>\n",
       "      <td>Ressort de rappel de roue de distribution réf ...</td>\n",
       "      <td>-</td>\n",
       "      <td>nan</td>\n",
       "      <td>NaN</td>\n",
       "      <td>nan</td>\n",
       "      <td>NaN</td>\n",
       "      <td>v</td>\n",
       "    </tr>\n",
       "  </tbody>\n",
       "</table>\n",
       "</div>"
      ],
      "text/plain": [
       "  Symbole                                        Désignation Emplacement  \\\n",
       "0    1RA6          Douille à aiguille de centrage réf 620065           -   \n",
       "1    1RA7         Douille d'étanchéité de culasse réf A11299           -   \n",
       "2    1RA8  Ressort de rappel de roue de distribution réf ...           -   \n",
       "\n",
       "   Qté Exist Prix U  Montant Exis U d'emploi Etat  \n",
       "0        nan    NaN           nan        NaN    v  \n",
       "1        nan    NaN           nan        NaN    v  \n",
       "2        nan    NaN           nan        NaN    v  "
      ]
     },
     "execution_count": 8,
     "metadata": {},
     "output_type": "execute_result"
    }
   ],
   "source": [
    "inv.head(3)"
   ]
  },
  {
   "cell_type": "markdown",
   "metadata": {},
   "source": [
    "### Format Dataframe"
   ]
  },
  {
   "cell_type": "code",
   "execution_count": 9,
   "metadata": {},
   "outputs": [
    {
     "data": {
      "text/plain": [
       "(6471, 8)"
      ]
     },
     "execution_count": 9,
     "metadata": {},
     "output_type": "execute_result"
    }
   ],
   "source": [
    "inv.shape"
   ]
  },
  {
   "cell_type": "markdown",
   "metadata": {},
   "source": [
    "## Retirer les éléments vendus  "
   ]
  },
  {
   "cell_type": "markdown",
   "metadata": {},
   "source": [
    "Ces éléments ne font plus partie de l'inventaire ou du RGM"
   ]
  },
  {
   "cell_type": "markdown",
   "metadata": {},
   "source": [
    "### Extraire les éléments vendus"
   ]
  },
  {
   "cell_type": "markdown",
   "metadata": {},
   "source": [
    "Etant donné que le fichier source ne respecte pas la casse 'v' VS 'V'. "
   ]
  },
  {
   "cell_type": "code",
   "execution_count": 10,
   "metadata": {},
   "outputs": [],
   "source": [
    "vs = inv[(inv['Etat'] == 'v') | (inv['Etat'] == 'V')].index"
   ]
  },
  {
   "cell_type": "code",
   "execution_count": 11,
   "metadata": {},
   "outputs": [
    {
     "data": {
      "text/plain": [
       "(1205,)"
      ]
     },
     "execution_count": 11,
     "metadata": {},
     "output_type": "execute_result"
    }
   ],
   "source": [
    "vs.shape"
   ]
  },
  {
   "cell_type": "markdown",
   "metadata": {},
   "source": [
    "Ceci donne un Dataframe des éléments vendus à soustraire de notre Dataframe Principal"
   ]
  },
  {
   "cell_type": "markdown",
   "metadata": {},
   "source": [
    "### Soustraire les vendus du DF principal"
   ]
  },
  {
   "cell_type": "code",
   "execution_count": 12,
   "metadata": {},
   "outputs": [],
   "source": [
    "inv.drop(vs,inplace=True)"
   ]
  },
  {
   "cell_type": "code",
   "execution_count": 13,
   "metadata": {},
   "outputs": [
    {
     "data": {
      "text/plain": [
       "(5266, 8)"
      ]
     },
     "execution_count": 13,
     "metadata": {},
     "output_type": "execute_result"
    }
   ],
   "source": [
    "inv.shape"
   ]
  },
  {
   "cell_type": "markdown",
   "metadata": {},
   "source": [
    "## Retirer les éléments 'economat' et 'pharmacie'"
   ]
  },
  {
   "cell_type": "markdown",
   "metadata": {},
   "source": [
    "### Extraire les éléments economat et pharmacie"
   ]
  },
  {
   "cell_type": "markdown",
   "metadata": {},
   "source": [
    "Les éléments sont identifiés par 'c' "
   ]
  },
  {
   "cell_type": "code",
   "execution_count": 14,
   "metadata": {},
   "outputs": [],
   "source": [
    "cs = inv[(inv['Etat'] == 'c')].index"
   ]
  },
  {
   "cell_type": "code",
   "execution_count": 15,
   "metadata": {},
   "outputs": [
    {
     "data": {
      "text/plain": [
       "(645,)"
      ]
     },
     "execution_count": 15,
     "metadata": {},
     "output_type": "execute_result"
    }
   ],
   "source": [
    "cs.shape"
   ]
  },
  {
   "cell_type": "markdown",
   "metadata": {},
   "source": [
    "### Soustraire les éléments 'economat' et 'pharmacie' du DF principal"
   ]
  },
  {
   "cell_type": "code",
   "execution_count": 16,
   "metadata": {},
   "outputs": [],
   "source": [
    "inv.drop(cs,inplace=True)"
   ]
  },
  {
   "cell_type": "code",
   "execution_count": 17,
   "metadata": {},
   "outputs": [
    {
     "data": {
      "text/plain": [
       "(4621, 8)"
      ]
     },
     "execution_count": 17,
     "metadata": {},
     "output_type": "execute_result"
    }
   ],
   "source": [
    "inv.shape"
   ]
  },
  {
   "cell_type": "markdown",
   "metadata": {},
   "source": [
    "# Inventaire purgé des éléments non utilisés"
   ]
  },
  {
   "cell_type": "code",
   "execution_count": 18,
   "metadata": {},
   "outputs": [
    {
     "data": {
      "text/html": [
       "<div>\n",
       "<style scoped>\n",
       "    .dataframe tbody tr th:only-of-type {\n",
       "        vertical-align: middle;\n",
       "    }\n",
       "\n",
       "    .dataframe tbody tr th {\n",
       "        vertical-align: top;\n",
       "    }\n",
       "\n",
       "    .dataframe thead th {\n",
       "        text-align: right;\n",
       "    }\n",
       "</style>\n",
       "<table border=\"1\" class=\"dataframe\">\n",
       "  <thead>\n",
       "    <tr style=\"text-align: right;\">\n",
       "      <th></th>\n",
       "      <th>Symbole</th>\n",
       "      <th>Désignation</th>\n",
       "      <th>Emplacement</th>\n",
       "      <th>Qté Exist</th>\n",
       "      <th>Prix U</th>\n",
       "      <th>Montant Exis</th>\n",
       "      <th>U d'emploi</th>\n",
       "      <th>Etat</th>\n",
       "    </tr>\n",
       "  </thead>\n",
       "  <tbody>\n",
       "    <tr>\n",
       "      <th>27</th>\n",
       "      <td>1RA87</td>\n",
       "      <td>Patte de fixation coute chauche sur collecteur...</td>\n",
       "      <td>1D6F4D1</td>\n",
       "      <td>1.00</td>\n",
       "      <td>0</td>\n",
       "      <td>0.00</td>\n",
       "      <td>U</td>\n",
       "      <td>NaN</td>\n",
       "    </tr>\n",
       "    <tr>\n",
       "      <th>98</th>\n",
       "      <td>2RA132</td>\n",
       "      <td>Master cylindre</td>\n",
       "      <td>1D1A3</td>\n",
       "      <td>1.00</td>\n",
       "      <td>0</td>\n",
       "      <td>0.00</td>\n",
       "      <td>U</td>\n",
       "      <td>NaN</td>\n",
       "    </tr>\n",
       "    <tr>\n",
       "      <th>113</th>\n",
       "      <td>RC2</td>\n",
       "      <td>Bouchon de remplissage d'huile</td>\n",
       "      <td>1A20B2</td>\n",
       "      <td>3.00</td>\n",
       "      <td>64.37</td>\n",
       "      <td>193.11</td>\n",
       "      <td>U</td>\n",
       "      <td>NaN</td>\n",
       "    </tr>\n",
       "    <tr>\n",
       "      <th>114</th>\n",
       "      <td>RC3</td>\n",
       "      <td>Joint pour bouchon</td>\n",
       "      <td>1D7D2A3</td>\n",
       "      <td>4.00</td>\n",
       "      <td>10.35</td>\n",
       "      <td>41.40</td>\n",
       "      <td>U</td>\n",
       "      <td>NaN</td>\n",
       "    </tr>\n",
       "    <tr>\n",
       "      <th>115</th>\n",
       "      <td>RC4</td>\n",
       "      <td>Joint collecteur echappement et admission</td>\n",
       "      <td>1D13S5</td>\n",
       "      <td>2.00</td>\n",
       "      <td>4.56</td>\n",
       "      <td>9.12</td>\n",
       "      <td>U</td>\n",
       "      <td>NaN</td>\n",
       "    </tr>\n",
       "    <tr>\n",
       "      <th>116</th>\n",
       "      <td>RC6</td>\n",
       "      <td>Cartouche filtre a huile</td>\n",
       "      <td>1A14B1</td>\n",
       "      <td>0.00</td>\n",
       "      <td>45</td>\n",
       "      <td>0.00</td>\n",
       "      <td>U</td>\n",
       "      <td>NaN</td>\n",
       "    </tr>\n",
       "    <tr>\n",
       "      <th>118</th>\n",
       "      <td>RC8</td>\n",
       "      <td>Element de filtre a air</td>\n",
       "      <td>1Z18</td>\n",
       "      <td>0.00</td>\n",
       "      <td>0</td>\n",
       "      <td>0.00</td>\n",
       "      <td>U</td>\n",
       "      <td>NaN</td>\n",
       "    </tr>\n",
       "    <tr>\n",
       "      <th>119</th>\n",
       "      <td>RC9</td>\n",
       "      <td>Filtre a huile sinfa</td>\n",
       "      <td>1C8C3</td>\n",
       "      <td>0.00</td>\n",
       "      <td>0</td>\n",
       "      <td>0.00</td>\n",
       "      <td>U</td>\n",
       "      <td>NaN</td>\n",
       "    </tr>\n",
       "    <tr>\n",
       "      <th>120</th>\n",
       "      <td>RC10</td>\n",
       "      <td>Element filtre a air sinfa</td>\n",
       "      <td>1A47H3</td>\n",
       "      <td>0.00</td>\n",
       "      <td>0</td>\n",
       "      <td>0.00</td>\n",
       "      <td>U</td>\n",
       "      <td>NaN</td>\n",
       "    </tr>\n",
       "    <tr>\n",
       "      <th>121</th>\n",
       "      <td>RC11</td>\n",
       "      <td>Courroie ventilateur</td>\n",
       "      <td>1A26F3</td>\n",
       "      <td>0.00</td>\n",
       "      <td>22.71</td>\n",
       "      <td>0.00</td>\n",
       "      <td>U</td>\n",
       "      <td>NaN</td>\n",
       "    </tr>\n",
       "  </tbody>\n",
       "</table>\n",
       "</div>"
      ],
      "text/plain": [
       "    Symbole                                        Désignation Emplacement  \\\n",
       "27    1RA87  Patte de fixation coute chauche sur collecteur...     1D6F4D1   \n",
       "98   2RA132                                    Master cylindre       1D1A3   \n",
       "113     RC2                     Bouchon de remplissage d'huile      1A20B2   \n",
       "114     RC3                                 Joint pour bouchon     1D7D2A3   \n",
       "115     RC4          Joint collecteur echappement et admission      1D13S5   \n",
       "116     RC6                           Cartouche filtre a huile      1A14B1   \n",
       "118     RC8                            Element de filtre a air        1Z18   \n",
       "119     RC9                               Filtre a huile sinfa       1C8C3   \n",
       "120    RC10                         Element filtre a air sinfa      1A47H3   \n",
       "121    RC11                               Courroie ventilateur      1A26F3   \n",
       "\n",
       "     Qté Exist Prix U  Montant Exis U d'emploi Etat  \n",
       "27        1.00      0          0.00          U  NaN  \n",
       "98        1.00      0          0.00          U  NaN  \n",
       "113       3.00  64.37        193.11          U  NaN  \n",
       "114       4.00  10.35         41.40          U  NaN  \n",
       "115       2.00   4.56          9.12          U  NaN  \n",
       "116       0.00     45          0.00          U  NaN  \n",
       "118       0.00      0          0.00          U  NaN  \n",
       "119       0.00      0          0.00          U  NaN  \n",
       "120       0.00      0          0.00          U  NaN  \n",
       "121       0.00  22.71          0.00          U  NaN  "
      ]
     },
     "execution_count": 18,
     "metadata": {},
     "output_type": "execute_result"
    }
   ],
   "source": [
    "inv.head(10)"
   ]
  },
  {
   "cell_type": "markdown",
   "metadata": {},
   "source": [
    "# Séparer le Dataset et isoler les articles dont le symbole commence par un chiffre"
   ]
  },
  {
   "cell_type": "code",
   "execution_count": 19,
   "metadata": {
    "scrolled": true
   },
   "outputs": [
    {
     "data": {
      "text/plain": [
       "27        1\n",
       "98        2\n",
       "113       R\n",
       "114       R\n",
       "115       R\n",
       "       ... \n",
       "6466      C\n",
       "6467      C\n",
       "6468      C\n",
       "6469    NaN\n",
       "6470    NaN\n",
       "Name: Symbole, Length: 4621, dtype: object"
      ]
     },
     "execution_count": 19,
     "metadata": {},
     "output_type": "execute_result"
    }
   ],
   "source": [
    "inv['Symbole'].str[0]"
   ]
  },
  {
   "cell_type": "markdown",
   "metadata": {},
   "source": [
    "Boucler sur les symbole commençant par un chiffre et regrouper les lignes dans une liste"
   ]
  },
  {
   "cell_type": "code",
   "execution_count": 26,
   "metadata": {
    "scrolled": false
   },
   "outputs": [
    {
     "name": "stdout",
     "output_type": "stream",
     "text": [
      "## here is Int !!! 312228\n",
      "## here is Int !!! 312230\n",
      "## here is Int !!! 312240\n",
      "## here is Int !!! 312242\n",
      "## here is float !!! nan\n",
      "## here is float !!! nan\n",
      "Done\n"
     ]
    }
   ],
   "source": [
    "p = []\n",
    "for i,row in inv.iterrows():\n",
    "    x = row['Symbole']\n",
    "    \n",
    "    if type(x) is int:\n",
    "        print(\"## here is Int !!!\",x)\n",
    "        \n",
    "    # les valuer Nan sont considérées comme float (à corriger)    \n",
    "    elif type(x) is float:\n",
    "        print(\"## here is float !!!\",x)\n",
    "    \n",
    "    elif (x[0].isnumeric()):\n",
    "        p.append(row)\n",
    "        \n",
    "    else :\n",
    "        pass\n",
    "        \n",
    "print('Done')\n",
    "    "
   ]
  },
  {
   "cell_type": "markdown",
   "metadata": {},
   "source": [
    "Les dernières valeurs semblent être Nan"
   ]
  },
  {
   "cell_type": "code",
   "execution_count": 21,
   "metadata": {
    "scrolled": true
   },
   "outputs": [
    {
     "data": {
      "text/plain": [
       "6466    CF4\n",
       "6467    CF5\n",
       "6468    CF6\n",
       "6469    NaN\n",
       "6470    NaN\n",
       "Name: Symbole, dtype: object"
      ]
     },
     "execution_count": 21,
     "metadata": {},
     "output_type": "execute_result"
    }
   ],
   "source": [
    "inv['Symbole'].tail()"
   ]
  },
  {
   "cell_type": "markdown",
   "metadata": {},
   "source": [
    "Générer une liste de Series respectant les conditions"
   ]
  },
  {
   "cell_type": "code",
   "execution_count": 22,
   "metadata": {
    "scrolled": true
   },
   "outputs": [
    {
     "data": {
      "text/plain": [
       "[Symbole                                                     1RA87\n",
       " Désignation     Patte de fixation coute chauche sur collecteur...\n",
       " Emplacement                                               1D6F4D1\n",
       " Qté Exist                                                    1.00\n",
       " Prix U                                                          0\n",
       " Montant Exis                                                 0.00\n",
       " U d'emploi                                                      U\n",
       " Etat                                                          NaN\n",
       " Name: 27, dtype: object,\n",
       " Symbole                  2RA132\n",
       " Désignation     Master cylindre\n",
       " Emplacement               1D1A3\n",
       " Qté Exist                  1.00\n",
       " Prix U                        0\n",
       " Montant Exis               0.00\n",
       " U d'emploi                    U\n",
       " Etat                        NaN\n",
       " Name: 98, dtype: object]"
      ]
     },
     "execution_count": 22,
     "metadata": {},
     "output_type": "execute_result"
    }
   ],
   "source": [
    "p[:2]"
   ]
  },
  {
   "cell_type": "markdown",
   "metadata": {},
   "source": [
    "Réassembler les éléments de la liste en un dataframe"
   ]
  },
  {
   "cell_type": "code",
   "execution_count": 23,
   "metadata": {},
   "outputs": [],
   "source": [
    "nums = pd.DataFrame(p,columns=['Symbole', 'Désignation', 'Emplacement', 'Qté Exist', 'Prix U',\n",
    "       'Montant Exis', \"U d'emploi\", 'Etat'])"
   ]
  },
  {
   "cell_type": "code",
   "execution_count": 24,
   "metadata": {},
   "outputs": [
    {
     "data": {
      "text/html": [
       "<div>\n",
       "<style scoped>\n",
       "    .dataframe tbody tr th:only-of-type {\n",
       "        vertical-align: middle;\n",
       "    }\n",
       "\n",
       "    .dataframe tbody tr th {\n",
       "        vertical-align: top;\n",
       "    }\n",
       "\n",
       "    .dataframe thead th {\n",
       "        text-align: right;\n",
       "    }\n",
       "</style>\n",
       "<table border=\"1\" class=\"dataframe\">\n",
       "  <thead>\n",
       "    <tr style=\"text-align: right;\">\n",
       "      <th></th>\n",
       "      <th>Symbole</th>\n",
       "      <th>Désignation</th>\n",
       "      <th>Emplacement</th>\n",
       "      <th>Qté Exist</th>\n",
       "      <th>Prix U</th>\n",
       "      <th>Montant Exis</th>\n",
       "      <th>U d'emploi</th>\n",
       "      <th>Etat</th>\n",
       "    </tr>\n",
       "  </thead>\n",
       "  <tbody>\n",
       "    <tr>\n",
       "      <th>27</th>\n",
       "      <td>1RA87</td>\n",
       "      <td>Patte de fixation coute chauche sur collecteur...</td>\n",
       "      <td>1D6F4D1</td>\n",
       "      <td>1.00</td>\n",
       "      <td>0</td>\n",
       "      <td>0.00</td>\n",
       "      <td>U</td>\n",
       "      <td>nan</td>\n",
       "    </tr>\n",
       "    <tr>\n",
       "      <th>98</th>\n",
       "      <td>2RA132</td>\n",
       "      <td>Master cylindre</td>\n",
       "      <td>1D1A3</td>\n",
       "      <td>1.00</td>\n",
       "      <td>0</td>\n",
       "      <td>0.00</td>\n",
       "      <td>U</td>\n",
       "      <td>nan</td>\n",
       "    </tr>\n",
       "    <tr>\n",
       "      <th>252</th>\n",
       "      <td>2RD2</td>\n",
       "      <td>Elément filtre à air réf. 77 00 678 752</td>\n",
       "      <td>1B5J3</td>\n",
       "      <td>0.00</td>\n",
       "      <td>87</td>\n",
       "      <td>0.00</td>\n",
       "      <td>U</td>\n",
       "      <td>nan</td>\n",
       "    </tr>\n",
       "    <tr>\n",
       "      <th>253</th>\n",
       "      <td>2RD3</td>\n",
       "      <td>Elément filtre à huile réf. 50 00 816 070</td>\n",
       "      <td>1B16D3</td>\n",
       "      <td>0.00</td>\n",
       "      <td>40</td>\n",
       "      <td>0.00</td>\n",
       "      <td>U</td>\n",
       "      <td>nan</td>\n",
       "    </tr>\n",
       "    <tr>\n",
       "      <th>254</th>\n",
       "      <td>2RD4</td>\n",
       "      <td>Elément filtre à gasoil réf. 77 01 028 181</td>\n",
       "      <td>1C4C2</td>\n",
       "      <td>0.00</td>\n",
       "      <td>44</td>\n",
       "      <td>0.00</td>\n",
       "      <td>U</td>\n",
       "      <td>nan</td>\n",
       "    </tr>\n",
       "    <tr>\n",
       "      <th>...</th>\n",
       "      <td>...</td>\n",
       "      <td>...</td>\n",
       "      <td>...</td>\n",
       "      <td>...</td>\n",
       "      <td>...</td>\n",
       "      <td>...</td>\n",
       "      <td>...</td>\n",
       "      <td>...</td>\n",
       "    </tr>\n",
       "    <tr>\n",
       "      <th>5857</th>\n",
       "      <td>3LG24</td>\n",
       "      <td>Agrafe Hermique record N° 0 élement de 30cm</td>\n",
       "      <td>1Z20</td>\n",
       "      <td>88.00</td>\n",
       "      <td>138</td>\n",
       "      <td>12144.00</td>\n",
       "      <td>U</td>\n",
       "      <td>nan</td>\n",
       "    </tr>\n",
       "    <tr>\n",
       "      <th>5858</th>\n",
       "      <td>3LG26</td>\n",
       "      <td>Crampon pour agraf Hermique record N°0</td>\n",
       "      <td>1D8A1</td>\n",
       "      <td>5.00</td>\n",
       "      <td>165</td>\n",
       "      <td>825.00</td>\n",
       "      <td>U</td>\n",
       "      <td>nan</td>\n",
       "    </tr>\n",
       "    <tr>\n",
       "      <th>5859</th>\n",
       "      <td>3LG28</td>\n",
       "      <td>Trimgle de 6mm longeur 480</td>\n",
       "      <td>1A41C1</td>\n",
       "      <td>0.00</td>\n",
       "      <td>0</td>\n",
       "      <td>0.00</td>\n",
       "      <td>U</td>\n",
       "      <td>nan</td>\n",
       "    </tr>\n",
       "    <tr>\n",
       "      <th>5860</th>\n",
       "      <td>3LG3</td>\n",
       "      <td>Bande Transporteuse largeur 500 2 plis nylon</td>\n",
       "      <td>Parc</td>\n",
       "      <td>0.00</td>\n",
       "      <td>242.50</td>\n",
       "      <td>0.00</td>\n",
       "      <td>M</td>\n",
       "      <td>nan</td>\n",
       "    </tr>\n",
       "    <tr>\n",
       "      <th>5861</th>\n",
       "      <td>3LG4</td>\n",
       "      <td>Bande Transporteuse largeur 600 2 plis nylon</td>\n",
       "      <td>Parc</td>\n",
       "      <td>0.00</td>\n",
       "      <td>300</td>\n",
       "      <td>0.00</td>\n",
       "      <td>M</td>\n",
       "      <td>nan</td>\n",
       "    </tr>\n",
       "  </tbody>\n",
       "</table>\n",
       "<p>1632 rows × 8 columns</p>\n",
       "</div>"
      ],
      "text/plain": [
       "     Symbole                                        Désignation Emplacement  \\\n",
       "27     1RA87  Patte de fixation coute chauche sur collecteur...     1D6F4D1   \n",
       "98    2RA132                                    Master cylindre       1D1A3   \n",
       "252     2RD2            Elément filtre à air réf. 77 00 678 752       1B5J3   \n",
       "253     2RD3          Elément filtre à huile réf. 50 00 816 070      1B16D3   \n",
       "254     2RD4         Elément filtre à gasoil réf. 77 01 028 181       1C4C2   \n",
       "...      ...                                                ...         ...   \n",
       "5857   3LG24        Agrafe Hermique record N° 0 élement de 30cm        1Z20   \n",
       "5858   3LG26             Crampon pour agraf Hermique record N°0       1D8A1   \n",
       "5859   3LG28                         Trimgle de 6mm longeur 480      1A41C1   \n",
       "5860    3LG3       Bande Transporteuse largeur 500 2 plis nylon        Parc   \n",
       "5861    3LG4       Bande Transporteuse largeur 600 2 plis nylon        Parc   \n",
       "\n",
       "      Qté Exist Prix U  Montant Exis U d'emploi  Etat  \n",
       "27         1.00      0          0.00          U   nan  \n",
       "98         1.00      0          0.00          U   nan  \n",
       "252        0.00     87          0.00          U   nan  \n",
       "253        0.00     40          0.00          U   nan  \n",
       "254        0.00     44          0.00          U   nan  \n",
       "...         ...    ...           ...        ...   ...  \n",
       "5857      88.00    138      12144.00          U   nan  \n",
       "5858       5.00    165        825.00          U   nan  \n",
       "5859       0.00      0          0.00          U   nan  \n",
       "5860       0.00 242.50          0.00          M   nan  \n",
       "5861       0.00    300          0.00          M   nan  \n",
       "\n",
       "[1632 rows x 8 columns]"
      ]
     },
     "execution_count": 24,
     "metadata": {},
     "output_type": "execute_result"
    }
   ],
   "source": [
    "nums"
   ]
  },
  {
   "cell_type": "markdown",
   "metadata": {},
   "source": [
    "Reset de l'index"
   ]
  },
  {
   "cell_type": "code",
   "execution_count": 28,
   "metadata": {},
   "outputs": [
    {
     "data": {
      "text/html": [
       "<div>\n",
       "<style scoped>\n",
       "    .dataframe tbody tr th:only-of-type {\n",
       "        vertical-align: middle;\n",
       "    }\n",
       "\n",
       "    .dataframe tbody tr th {\n",
       "        vertical-align: top;\n",
       "    }\n",
       "\n",
       "    .dataframe thead th {\n",
       "        text-align: right;\n",
       "    }\n",
       "</style>\n",
       "<table border=\"1\" class=\"dataframe\">\n",
       "  <thead>\n",
       "    <tr style=\"text-align: right;\">\n",
       "      <th></th>\n",
       "      <th>index</th>\n",
       "      <th>Symbole</th>\n",
       "      <th>Désignation</th>\n",
       "      <th>Emplacement</th>\n",
       "      <th>Qté Exist</th>\n",
       "      <th>Prix U</th>\n",
       "      <th>Montant Exis</th>\n",
       "      <th>U d'emploi</th>\n",
       "      <th>Etat</th>\n",
       "    </tr>\n",
       "  </thead>\n",
       "  <tbody>\n",
       "    <tr>\n",
       "      <th>0</th>\n",
       "      <td>27</td>\n",
       "      <td>1RA87</td>\n",
       "      <td>Patte de fixation coute chauche sur collecteur...</td>\n",
       "      <td>1D6F4D1</td>\n",
       "      <td>1.00</td>\n",
       "      <td>0</td>\n",
       "      <td>0.00</td>\n",
       "      <td>U</td>\n",
       "      <td>nan</td>\n",
       "    </tr>\n",
       "    <tr>\n",
       "      <th>1</th>\n",
       "      <td>98</td>\n",
       "      <td>2RA132</td>\n",
       "      <td>Master cylindre</td>\n",
       "      <td>1D1A3</td>\n",
       "      <td>1.00</td>\n",
       "      <td>0</td>\n",
       "      <td>0.00</td>\n",
       "      <td>U</td>\n",
       "      <td>nan</td>\n",
       "    </tr>\n",
       "    <tr>\n",
       "      <th>2</th>\n",
       "      <td>252</td>\n",
       "      <td>2RD2</td>\n",
       "      <td>Elément filtre à air réf. 77 00 678 752</td>\n",
       "      <td>1B5J3</td>\n",
       "      <td>0.00</td>\n",
       "      <td>87</td>\n",
       "      <td>0.00</td>\n",
       "      <td>U</td>\n",
       "      <td>nan</td>\n",
       "    </tr>\n",
       "    <tr>\n",
       "      <th>3</th>\n",
       "      <td>253</td>\n",
       "      <td>2RD3</td>\n",
       "      <td>Elément filtre à huile réf. 50 00 816 070</td>\n",
       "      <td>1B16D3</td>\n",
       "      <td>0.00</td>\n",
       "      <td>40</td>\n",
       "      <td>0.00</td>\n",
       "      <td>U</td>\n",
       "      <td>nan</td>\n",
       "    </tr>\n",
       "    <tr>\n",
       "      <th>4</th>\n",
       "      <td>254</td>\n",
       "      <td>2RD4</td>\n",
       "      <td>Elément filtre à gasoil réf. 77 01 028 181</td>\n",
       "      <td>1C4C2</td>\n",
       "      <td>0.00</td>\n",
       "      <td>44</td>\n",
       "      <td>0.00</td>\n",
       "      <td>U</td>\n",
       "      <td>nan</td>\n",
       "    </tr>\n",
       "    <tr>\n",
       "      <th>...</th>\n",
       "      <td>...</td>\n",
       "      <td>...</td>\n",
       "      <td>...</td>\n",
       "      <td>...</td>\n",
       "      <td>...</td>\n",
       "      <td>...</td>\n",
       "      <td>...</td>\n",
       "      <td>...</td>\n",
       "      <td>...</td>\n",
       "    </tr>\n",
       "    <tr>\n",
       "      <th>1627</th>\n",
       "      <td>5857</td>\n",
       "      <td>3LG24</td>\n",
       "      <td>Agrafe Hermique record N° 0 élement de 30cm</td>\n",
       "      <td>1Z20</td>\n",
       "      <td>88.00</td>\n",
       "      <td>138</td>\n",
       "      <td>12144.00</td>\n",
       "      <td>U</td>\n",
       "      <td>nan</td>\n",
       "    </tr>\n",
       "    <tr>\n",
       "      <th>1628</th>\n",
       "      <td>5858</td>\n",
       "      <td>3LG26</td>\n",
       "      <td>Crampon pour agraf Hermique record N°0</td>\n",
       "      <td>1D8A1</td>\n",
       "      <td>5.00</td>\n",
       "      <td>165</td>\n",
       "      <td>825.00</td>\n",
       "      <td>U</td>\n",
       "      <td>nan</td>\n",
       "    </tr>\n",
       "    <tr>\n",
       "      <th>1629</th>\n",
       "      <td>5859</td>\n",
       "      <td>3LG28</td>\n",
       "      <td>Trimgle de 6mm longeur 480</td>\n",
       "      <td>1A41C1</td>\n",
       "      <td>0.00</td>\n",
       "      <td>0</td>\n",
       "      <td>0.00</td>\n",
       "      <td>U</td>\n",
       "      <td>nan</td>\n",
       "    </tr>\n",
       "    <tr>\n",
       "      <th>1630</th>\n",
       "      <td>5860</td>\n",
       "      <td>3LG3</td>\n",
       "      <td>Bande Transporteuse largeur 500 2 plis nylon</td>\n",
       "      <td>Parc</td>\n",
       "      <td>0.00</td>\n",
       "      <td>242.50</td>\n",
       "      <td>0.00</td>\n",
       "      <td>M</td>\n",
       "      <td>nan</td>\n",
       "    </tr>\n",
       "    <tr>\n",
       "      <th>1631</th>\n",
       "      <td>5861</td>\n",
       "      <td>3LG4</td>\n",
       "      <td>Bande Transporteuse largeur 600 2 plis nylon</td>\n",
       "      <td>Parc</td>\n",
       "      <td>0.00</td>\n",
       "      <td>300</td>\n",
       "      <td>0.00</td>\n",
       "      <td>M</td>\n",
       "      <td>nan</td>\n",
       "    </tr>\n",
       "  </tbody>\n",
       "</table>\n",
       "<p>1632 rows × 9 columns</p>\n",
       "</div>"
      ],
      "text/plain": [
       "      index Symbole                                        Désignation  \\\n",
       "0        27   1RA87  Patte de fixation coute chauche sur collecteur...   \n",
       "1        98  2RA132                                    Master cylindre   \n",
       "2       252    2RD2            Elément filtre à air réf. 77 00 678 752   \n",
       "3       253    2RD3          Elément filtre à huile réf. 50 00 816 070   \n",
       "4       254    2RD4         Elément filtre à gasoil réf. 77 01 028 181   \n",
       "...     ...     ...                                                ...   \n",
       "1627   5857   3LG24        Agrafe Hermique record N° 0 élement de 30cm   \n",
       "1628   5858   3LG26             Crampon pour agraf Hermique record N°0   \n",
       "1629   5859   3LG28                         Trimgle de 6mm longeur 480   \n",
       "1630   5860    3LG3       Bande Transporteuse largeur 500 2 plis nylon   \n",
       "1631   5861    3LG4       Bande Transporteuse largeur 600 2 plis nylon   \n",
       "\n",
       "     Emplacement  Qté Exist Prix U  Montant Exis U d'emploi  Etat  \n",
       "0        1D6F4D1       1.00      0          0.00          U   nan  \n",
       "1          1D1A3       1.00      0          0.00          U   nan  \n",
       "2          1B5J3       0.00     87          0.00          U   nan  \n",
       "3         1B16D3       0.00     40          0.00          U   nan  \n",
       "4          1C4C2       0.00     44          0.00          U   nan  \n",
       "...          ...        ...    ...           ...        ...   ...  \n",
       "1627        1Z20      88.00    138      12144.00          U   nan  \n",
       "1628       1D8A1       5.00    165        825.00          U   nan  \n",
       "1629      1A41C1       0.00      0          0.00          U   nan  \n",
       "1630        Parc       0.00 242.50          0.00          M   nan  \n",
       "1631        Parc       0.00    300          0.00          M   nan  \n",
       "\n",
       "[1632 rows x 9 columns]"
      ]
     },
     "execution_count": 28,
     "metadata": {},
     "output_type": "execute_result"
    }
   ],
   "source": [
    "nums.reset_index()"
   ]
  },
  {
   "cell_type": "markdown",
   "metadata": {},
   "source": [
    "### Exporter le Dataframe au format excel"
   ]
  },
  {
   "cell_type": "code",
   "execution_count": 27,
   "metadata": {},
   "outputs": [],
   "source": [
    "nums.to_excel(\"Symbole_numeric.xlsx\")"
   ]
  },
  {
   "cell_type": "markdown",
   "metadata": {},
   "source": [
    "### Extraire ce sous ensemble du Dataframe"
   ]
  },
  {
   "cell_type": "code",
   "execution_count": null,
   "metadata": {},
   "outputs": [],
   "source": []
  }
 ],
 "metadata": {
  "kernelspec": {
   "display_name": "Python 3",
   "language": "python",
   "name": "python3"
  },
  "language_info": {
   "codemirror_mode": {
    "name": "ipython",
    "version": 3
   },
   "file_extension": ".py",
   "mimetype": "text/x-python",
   "name": "python",
   "nbconvert_exporter": "python",
   "pygments_lexer": "ipython3",
   "version": "3.8.2"
  }
 },
 "nbformat": 4,
 "nbformat_minor": 4
}
