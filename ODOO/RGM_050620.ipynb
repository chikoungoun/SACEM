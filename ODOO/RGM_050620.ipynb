{
 "cells": [
  {
   "cell_type": "code",
   "execution_count": 1,
   "metadata": {},
   "outputs": [],
   "source": [
    "import  pandas as pd\n",
    "import numpy as np"
   ]
  },
  {
   "cell_type": "code",
   "execution_count": 2,
   "metadata": {},
   "outputs": [],
   "source": [
    "pd.set_option('display.float_format', lambda x: '%.2f' % x)"
   ]
  },
  {
   "cell_type": "markdown",
   "metadata": {},
   "source": [
    "### Importer Inventaire"
   ]
  },
  {
   "cell_type": "code",
   "execution_count": 3,
   "metadata": {},
   "outputs": [],
   "source": [
    "inv = pd.read_excel('Inventaire.xlsx',index_col=0)"
   ]
  },
  {
   "cell_type": "code",
   "execution_count": 4,
   "metadata": {},
   "outputs": [
    {
     "data": {
      "text/html": [
       "<div>\n",
       "<style scoped>\n",
       "    .dataframe tbody tr th:only-of-type {\n",
       "        vertical-align: middle;\n",
       "    }\n",
       "\n",
       "    .dataframe tbody tr th {\n",
       "        vertical-align: top;\n",
       "    }\n",
       "\n",
       "    .dataframe thead th {\n",
       "        text-align: right;\n",
       "    }\n",
       "</style>\n",
       "<table border=\"1\" class=\"dataframe\">\n",
       "  <thead>\n",
       "    <tr style=\"text-align: right;\">\n",
       "      <th></th>\n",
       "      <th>Symbole</th>\n",
       "      <th>Désignation</th>\n",
       "      <th>Emplacement</th>\n",
       "      <th>Qté Comp</th>\n",
       "      <th>Qté Exist</th>\n",
       "      <th>Prix U</th>\n",
       "      <th>Montant Compt</th>\n",
       "      <th>Montant Exis</th>\n",
       "      <th>U d'emploi</th>\n",
       "      <th>Etat</th>\n",
       "      <th>Unnamed: 11</th>\n",
       "    </tr>\n",
       "  </thead>\n",
       "  <tbody>\n",
       "    <tr>\n",
       "      <th>nan</th>\n",
       "      <td>1RA6</td>\n",
       "      <td>Douille à aiguille de centrage réf 620065</td>\n",
       "      <td>-</td>\n",
       "      <td>nan</td>\n",
       "      <td>nan</td>\n",
       "      <td>NaN</td>\n",
       "      <td>nan</td>\n",
       "      <td>nan</td>\n",
       "      <td>NaN</td>\n",
       "      <td>v</td>\n",
       "      <td>nan</td>\n",
       "    </tr>\n",
       "    <tr>\n",
       "      <th>nan</th>\n",
       "      <td>1RA7</td>\n",
       "      <td>Douille d'étanchéité de culasse réf A11299</td>\n",
       "      <td>-</td>\n",
       "      <td>nan</td>\n",
       "      <td>nan</td>\n",
       "      <td>NaN</td>\n",
       "      <td>nan</td>\n",
       "      <td>nan</td>\n",
       "      <td>NaN</td>\n",
       "      <td>v</td>\n",
       "      <td>nan</td>\n",
       "    </tr>\n",
       "    <tr>\n",
       "      <th>nan</th>\n",
       "      <td>1RA8</td>\n",
       "      <td>Ressort de rappel de roue de distribution réf ...</td>\n",
       "      <td>-</td>\n",
       "      <td>nan</td>\n",
       "      <td>nan</td>\n",
       "      <td>NaN</td>\n",
       "      <td>nan</td>\n",
       "      <td>nan</td>\n",
       "      <td>NaN</td>\n",
       "      <td>v</td>\n",
       "      <td>nan</td>\n",
       "    </tr>\n",
       "  </tbody>\n",
       "</table>\n",
       "</div>"
      ],
      "text/plain": [
       "    Symbole                                        Désignation Emplacement  \\\n",
       "nan    1RA6          Douille à aiguille de centrage réf 620065           -   \n",
       "nan    1RA7         Douille d'étanchéité de culasse réf A11299           -   \n",
       "nan    1RA8  Ressort de rappel de roue de distribution réf ...           -   \n",
       "\n",
       "     Qté Comp  Qté Exist Prix U  Montant Compt  Montant Exis U d'emploi Etat  \\\n",
       "nan       nan        nan    NaN            nan           nan        NaN    v   \n",
       "nan       nan        nan    NaN            nan           nan        NaN    v   \n",
       "nan       nan        nan    NaN            nan           nan        NaN    v   \n",
       "\n",
       "     Unnamed: 11  \n",
       "nan          nan  \n",
       "nan          nan  \n",
       "nan          nan  "
      ]
     },
     "execution_count": 4,
     "metadata": {},
     "output_type": "execute_result"
    }
   ],
   "source": [
    "inv.head(3)"
   ]
  },
  {
   "cell_type": "markdown",
   "metadata": {},
   "source": [
    "### mettre à jour l'incrémentation"
   ]
  },
  {
   "cell_type": "code",
   "execution_count": 5,
   "metadata": {},
   "outputs": [],
   "source": [
    "inv.reset_index(drop=True,inplace=True)"
   ]
  },
  {
   "cell_type": "code",
   "execution_count": 6,
   "metadata": {},
   "outputs": [
    {
     "data": {
      "text/html": [
       "<div>\n",
       "<style scoped>\n",
       "    .dataframe tbody tr th:only-of-type {\n",
       "        vertical-align: middle;\n",
       "    }\n",
       "\n",
       "    .dataframe tbody tr th {\n",
       "        vertical-align: top;\n",
       "    }\n",
       "\n",
       "    .dataframe thead th {\n",
       "        text-align: right;\n",
       "    }\n",
       "</style>\n",
       "<table border=\"1\" class=\"dataframe\">\n",
       "  <thead>\n",
       "    <tr style=\"text-align: right;\">\n",
       "      <th></th>\n",
       "      <th>Symbole</th>\n",
       "      <th>Désignation</th>\n",
       "      <th>Emplacement</th>\n",
       "      <th>Qté Comp</th>\n",
       "      <th>Qté Exist</th>\n",
       "      <th>Prix U</th>\n",
       "      <th>Montant Compt</th>\n",
       "      <th>Montant Exis</th>\n",
       "      <th>U d'emploi</th>\n",
       "      <th>Etat</th>\n",
       "      <th>Unnamed: 11</th>\n",
       "    </tr>\n",
       "  </thead>\n",
       "  <tbody>\n",
       "    <tr>\n",
       "      <th>0</th>\n",
       "      <td>1RA6</td>\n",
       "      <td>Douille à aiguille de centrage réf 620065</td>\n",
       "      <td>-</td>\n",
       "      <td>nan</td>\n",
       "      <td>nan</td>\n",
       "      <td>NaN</td>\n",
       "      <td>nan</td>\n",
       "      <td>nan</td>\n",
       "      <td>NaN</td>\n",
       "      <td>v</td>\n",
       "      <td>nan</td>\n",
       "    </tr>\n",
       "    <tr>\n",
       "      <th>1</th>\n",
       "      <td>1RA7</td>\n",
       "      <td>Douille d'étanchéité de culasse réf A11299</td>\n",
       "      <td>-</td>\n",
       "      <td>nan</td>\n",
       "      <td>nan</td>\n",
       "      <td>NaN</td>\n",
       "      <td>nan</td>\n",
       "      <td>nan</td>\n",
       "      <td>NaN</td>\n",
       "      <td>v</td>\n",
       "      <td>nan</td>\n",
       "    </tr>\n",
       "    <tr>\n",
       "      <th>2</th>\n",
       "      <td>1RA8</td>\n",
       "      <td>Ressort de rappel de roue de distribution réf ...</td>\n",
       "      <td>-</td>\n",
       "      <td>nan</td>\n",
       "      <td>nan</td>\n",
       "      <td>NaN</td>\n",
       "      <td>nan</td>\n",
       "      <td>nan</td>\n",
       "      <td>NaN</td>\n",
       "      <td>v</td>\n",
       "      <td>nan</td>\n",
       "    </tr>\n",
       "    <tr>\n",
       "      <th>3</th>\n",
       "      <td>1RA9</td>\n",
       "      <td>Vis rotule de culbuteur réf A1244</td>\n",
       "      <td>-</td>\n",
       "      <td>nan</td>\n",
       "      <td>nan</td>\n",
       "      <td>NaN</td>\n",
       "      <td>nan</td>\n",
       "      <td>nan</td>\n",
       "      <td>NaN</td>\n",
       "      <td>v</td>\n",
       "      <td>nan</td>\n",
       "    </tr>\n",
       "    <tr>\n",
       "      <th>4</th>\n",
       "      <td>1RA10</td>\n",
       "      <td>Soupape d'admission réf A1247A</td>\n",
       "      <td>-</td>\n",
       "      <td>nan</td>\n",
       "      <td>nan</td>\n",
       "      <td>NaN</td>\n",
       "      <td>nan</td>\n",
       "      <td>nan</td>\n",
       "      <td>NaN</td>\n",
       "      <td>v</td>\n",
       "      <td>nan</td>\n",
       "    </tr>\n",
       "  </tbody>\n",
       "</table>\n",
       "</div>"
      ],
      "text/plain": [
       "  Symbole                                        Désignation Emplacement  \\\n",
       "0    1RA6          Douille à aiguille de centrage réf 620065           -   \n",
       "1    1RA7         Douille d'étanchéité de culasse réf A11299           -   \n",
       "2    1RA8  Ressort de rappel de roue de distribution réf ...           -   \n",
       "3    1RA9                  Vis rotule de culbuteur réf A1244           -   \n",
       "4   1RA10                     Soupape d'admission réf A1247A           -   \n",
       "\n",
       "   Qté Comp  Qté Exist Prix U  Montant Compt  Montant Exis U d'emploi Etat  \\\n",
       "0       nan        nan    NaN            nan           nan        NaN    v   \n",
       "1       nan        nan    NaN            nan           nan        NaN    v   \n",
       "2       nan        nan    NaN            nan           nan        NaN    v   \n",
       "3       nan        nan    NaN            nan           nan        NaN    v   \n",
       "4       nan        nan    NaN            nan           nan        NaN    v   \n",
       "\n",
       "   Unnamed: 11  \n",
       "0          nan  \n",
       "1          nan  \n",
       "2          nan  \n",
       "3          nan  \n",
       "4          nan  "
      ]
     },
     "execution_count": 6,
     "metadata": {},
     "output_type": "execute_result"
    }
   ],
   "source": [
    "inv.head()"
   ]
  },
  {
   "cell_type": "markdown",
   "metadata": {},
   "source": [
    "### Supprimer les colonnes inutiles"
   ]
  },
  {
   "cell_type": "code",
   "execution_count": 7,
   "metadata": {},
   "outputs": [],
   "source": [
    "inv = inv.drop(['Qté Comp','Montant Compt','Unnamed: 11'],axis=1)"
   ]
  },
  {
   "cell_type": "code",
   "execution_count": 8,
   "metadata": {},
   "outputs": [
    {
     "data": {
      "text/html": [
       "<div>\n",
       "<style scoped>\n",
       "    .dataframe tbody tr th:only-of-type {\n",
       "        vertical-align: middle;\n",
       "    }\n",
       "\n",
       "    .dataframe tbody tr th {\n",
       "        vertical-align: top;\n",
       "    }\n",
       "\n",
       "    .dataframe thead th {\n",
       "        text-align: right;\n",
       "    }\n",
       "</style>\n",
       "<table border=\"1\" class=\"dataframe\">\n",
       "  <thead>\n",
       "    <tr style=\"text-align: right;\">\n",
       "      <th></th>\n",
       "      <th>Symbole</th>\n",
       "      <th>Désignation</th>\n",
       "      <th>Emplacement</th>\n",
       "      <th>Qté Exist</th>\n",
       "      <th>Prix U</th>\n",
       "      <th>Montant Exis</th>\n",
       "      <th>U d'emploi</th>\n",
       "      <th>Etat</th>\n",
       "    </tr>\n",
       "  </thead>\n",
       "  <tbody>\n",
       "    <tr>\n",
       "      <th>0</th>\n",
       "      <td>1RA6</td>\n",
       "      <td>Douille à aiguille de centrage réf 620065</td>\n",
       "      <td>-</td>\n",
       "      <td>nan</td>\n",
       "      <td>NaN</td>\n",
       "      <td>nan</td>\n",
       "      <td>NaN</td>\n",
       "      <td>v</td>\n",
       "    </tr>\n",
       "    <tr>\n",
       "      <th>1</th>\n",
       "      <td>1RA7</td>\n",
       "      <td>Douille d'étanchéité de culasse réf A11299</td>\n",
       "      <td>-</td>\n",
       "      <td>nan</td>\n",
       "      <td>NaN</td>\n",
       "      <td>nan</td>\n",
       "      <td>NaN</td>\n",
       "      <td>v</td>\n",
       "    </tr>\n",
       "    <tr>\n",
       "      <th>2</th>\n",
       "      <td>1RA8</td>\n",
       "      <td>Ressort de rappel de roue de distribution réf ...</td>\n",
       "      <td>-</td>\n",
       "      <td>nan</td>\n",
       "      <td>NaN</td>\n",
       "      <td>nan</td>\n",
       "      <td>NaN</td>\n",
       "      <td>v</td>\n",
       "    </tr>\n",
       "  </tbody>\n",
       "</table>\n",
       "</div>"
      ],
      "text/plain": [
       "  Symbole                                        Désignation Emplacement  \\\n",
       "0    1RA6          Douille à aiguille de centrage réf 620065           -   \n",
       "1    1RA7         Douille d'étanchéité de culasse réf A11299           -   \n",
       "2    1RA8  Ressort de rappel de roue de distribution réf ...           -   \n",
       "\n",
       "   Qté Exist Prix U  Montant Exis U d'emploi Etat  \n",
       "0        nan    NaN           nan        NaN    v  \n",
       "1        nan    NaN           nan        NaN    v  \n",
       "2        nan    NaN           nan        NaN    v  "
      ]
     },
     "execution_count": 8,
     "metadata": {},
     "output_type": "execute_result"
    }
   ],
   "source": [
    "inv.head(3)"
   ]
  },
  {
   "cell_type": "markdown",
   "metadata": {},
   "source": [
    "### Format Dataframe"
   ]
  },
  {
   "cell_type": "code",
   "execution_count": 9,
   "metadata": {},
   "outputs": [
    {
     "data": {
      "text/plain": [
       "(6471, 8)"
      ]
     },
     "execution_count": 9,
     "metadata": {},
     "output_type": "execute_result"
    }
   ],
   "source": [
    "inv.shape"
   ]
  },
  {
   "cell_type": "markdown",
   "metadata": {},
   "source": [
    "## Retirer les éléments vendus  "
   ]
  },
  {
   "cell_type": "markdown",
   "metadata": {},
   "source": [
    "Ces éléments ne font plus partie de l'inventaire ou du RGM"
   ]
  },
  {
   "cell_type": "markdown",
   "metadata": {},
   "source": [
    "### Extraire les éléments vendus"
   ]
  },
  {
   "cell_type": "markdown",
   "metadata": {},
   "source": [
    "Etant donné que le fichier source ne respecte pas la casse 'v' VS 'V'. "
   ]
  },
  {
   "cell_type": "code",
   "execution_count": 10,
   "metadata": {},
   "outputs": [],
   "source": [
    "vs = inv[(inv['Etat'] == 'v') | (inv['Etat'] == 'V')].index"
   ]
  },
  {
   "cell_type": "code",
   "execution_count": 11,
   "metadata": {},
   "outputs": [
    {
     "data": {
      "text/plain": [
       "(1205,)"
      ]
     },
     "execution_count": 11,
     "metadata": {},
     "output_type": "execute_result"
    }
   ],
   "source": [
    "vs.shape"
   ]
  },
  {
   "cell_type": "markdown",
   "metadata": {},
   "source": [
    "Ceci donne un Dataframe des éléments vendus à soustraire de notre Dataframe Principal"
   ]
  },
  {
   "cell_type": "markdown",
   "metadata": {},
   "source": [
    "### Soustraire les vendus du DF principal"
   ]
  },
  {
   "cell_type": "code",
   "execution_count": 13,
   "metadata": {},
   "outputs": [],
   "source": [
    "inv.drop(vs,inplace=True)"
   ]
  },
  {
   "cell_type": "code",
   "execution_count": 14,
   "metadata": {},
   "outputs": [
    {
     "data": {
      "text/plain": [
       "(5266, 8)"
      ]
     },
     "execution_count": 14,
     "metadata": {},
     "output_type": "execute_result"
    }
   ],
   "source": [
    "inv.shape"
   ]
  },
  {
   "cell_type": "markdown",
   "metadata": {},
   "source": [
    "## Retirer les éléments 'economat' et 'pharmacie'"
   ]
  },
  {
   "cell_type": "markdown",
   "metadata": {},
   "source": [
    "### Extraire les éléments economat et pharmacie"
   ]
  },
  {
   "cell_type": "markdown",
   "metadata": {},
   "source": [
    "Les éléments sont identifiés par 'c' "
   ]
  },
  {
   "cell_type": "code",
   "execution_count": 15,
   "metadata": {},
   "outputs": [],
   "source": [
    "cs = inv[(inv['Etat'] == 'c')].index"
   ]
  },
  {
   "cell_type": "code",
   "execution_count": 18,
   "metadata": {},
   "outputs": [
    {
     "data": {
      "text/plain": [
       "(645,)"
      ]
     },
     "execution_count": 18,
     "metadata": {},
     "output_type": "execute_result"
    }
   ],
   "source": [
    "cs.shape"
   ]
  },
  {
   "cell_type": "markdown",
   "metadata": {},
   "source": [
    "### Soustraire les éléments 'economat' et 'pharmacie' du DF principal"
   ]
  },
  {
   "cell_type": "code",
   "execution_count": 19,
   "metadata": {},
   "outputs": [],
   "source": [
    "inv.drop(cs,inplace=True)"
   ]
  },
  {
   "cell_type": "code",
   "execution_count": 20,
   "metadata": {},
   "outputs": [
    {
     "data": {
      "text/plain": [
       "(4621, 8)"
      ]
     },
     "execution_count": 20,
     "metadata": {},
     "output_type": "execute_result"
    }
   ],
   "source": [
    "inv.shape"
   ]
  },
  {
   "cell_type": "markdown",
   "metadata": {},
   "source": [
    "# Inventaire purgé des éléments non utilisés"
   ]
  },
  {
   "cell_type": "code",
   "execution_count": 21,
   "metadata": {},
   "outputs": [
    {
     "data": {
      "text/html": [
       "<div>\n",
       "<style scoped>\n",
       "    .dataframe tbody tr th:only-of-type {\n",
       "        vertical-align: middle;\n",
       "    }\n",
       "\n",
       "    .dataframe tbody tr th {\n",
       "        vertical-align: top;\n",
       "    }\n",
       "\n",
       "    .dataframe thead th {\n",
       "        text-align: right;\n",
       "    }\n",
       "</style>\n",
       "<table border=\"1\" class=\"dataframe\">\n",
       "  <thead>\n",
       "    <tr style=\"text-align: right;\">\n",
       "      <th></th>\n",
       "      <th>Symbole</th>\n",
       "      <th>Désignation</th>\n",
       "      <th>Emplacement</th>\n",
       "      <th>Qté Exist</th>\n",
       "      <th>Prix U</th>\n",
       "      <th>Montant Exis</th>\n",
       "      <th>U d'emploi</th>\n",
       "      <th>Etat</th>\n",
       "    </tr>\n",
       "  </thead>\n",
       "  <tbody>\n",
       "    <tr>\n",
       "      <th>27</th>\n",
       "      <td>1RA87</td>\n",
       "      <td>Patte de fixation coute chauche sur collecteur...</td>\n",
       "      <td>1D6F4D1</td>\n",
       "      <td>1.00</td>\n",
       "      <td>0</td>\n",
       "      <td>0.00</td>\n",
       "      <td>U</td>\n",
       "      <td>NaN</td>\n",
       "    </tr>\n",
       "    <tr>\n",
       "      <th>98</th>\n",
       "      <td>2RA132</td>\n",
       "      <td>Master cylindre</td>\n",
       "      <td>1D1A3</td>\n",
       "      <td>1.00</td>\n",
       "      <td>0</td>\n",
       "      <td>0.00</td>\n",
       "      <td>U</td>\n",
       "      <td>NaN</td>\n",
       "    </tr>\n",
       "    <tr>\n",
       "      <th>113</th>\n",
       "      <td>RC2</td>\n",
       "      <td>Bouchon de remplissage d'huile</td>\n",
       "      <td>1A20B2</td>\n",
       "      <td>3.00</td>\n",
       "      <td>64.37</td>\n",
       "      <td>193.11</td>\n",
       "      <td>U</td>\n",
       "      <td>NaN</td>\n",
       "    </tr>\n",
       "    <tr>\n",
       "      <th>114</th>\n",
       "      <td>RC3</td>\n",
       "      <td>Joint pour bouchon</td>\n",
       "      <td>1D7D2A3</td>\n",
       "      <td>4.00</td>\n",
       "      <td>10.35</td>\n",
       "      <td>41.40</td>\n",
       "      <td>U</td>\n",
       "      <td>NaN</td>\n",
       "    </tr>\n",
       "    <tr>\n",
       "      <th>115</th>\n",
       "      <td>RC4</td>\n",
       "      <td>Joint collecteur echappement et admission</td>\n",
       "      <td>1D13S5</td>\n",
       "      <td>2.00</td>\n",
       "      <td>4.56</td>\n",
       "      <td>9.12</td>\n",
       "      <td>U</td>\n",
       "      <td>NaN</td>\n",
       "    </tr>\n",
       "    <tr>\n",
       "      <th>116</th>\n",
       "      <td>RC6</td>\n",
       "      <td>Cartouche filtre a huile</td>\n",
       "      <td>1A14B1</td>\n",
       "      <td>0.00</td>\n",
       "      <td>45</td>\n",
       "      <td>0.00</td>\n",
       "      <td>U</td>\n",
       "      <td>NaN</td>\n",
       "    </tr>\n",
       "    <tr>\n",
       "      <th>118</th>\n",
       "      <td>RC8</td>\n",
       "      <td>Element de filtre a air</td>\n",
       "      <td>1Z18</td>\n",
       "      <td>0.00</td>\n",
       "      <td>0</td>\n",
       "      <td>0.00</td>\n",
       "      <td>U</td>\n",
       "      <td>NaN</td>\n",
       "    </tr>\n",
       "    <tr>\n",
       "      <th>119</th>\n",
       "      <td>RC9</td>\n",
       "      <td>Filtre a huile sinfa</td>\n",
       "      <td>1C8C3</td>\n",
       "      <td>0.00</td>\n",
       "      <td>0</td>\n",
       "      <td>0.00</td>\n",
       "      <td>U</td>\n",
       "      <td>NaN</td>\n",
       "    </tr>\n",
       "    <tr>\n",
       "      <th>120</th>\n",
       "      <td>RC10</td>\n",
       "      <td>Element filtre a air sinfa</td>\n",
       "      <td>1A47H3</td>\n",
       "      <td>0.00</td>\n",
       "      <td>0</td>\n",
       "      <td>0.00</td>\n",
       "      <td>U</td>\n",
       "      <td>NaN</td>\n",
       "    </tr>\n",
       "    <tr>\n",
       "      <th>121</th>\n",
       "      <td>RC11</td>\n",
       "      <td>Courroie ventilateur</td>\n",
       "      <td>1A26F3</td>\n",
       "      <td>0.00</td>\n",
       "      <td>22.71</td>\n",
       "      <td>0.00</td>\n",
       "      <td>U</td>\n",
       "      <td>NaN</td>\n",
       "    </tr>\n",
       "  </tbody>\n",
       "</table>\n",
       "</div>"
      ],
      "text/plain": [
       "    Symbole                                        Désignation Emplacement  \\\n",
       "27    1RA87  Patte de fixation coute chauche sur collecteur...     1D6F4D1   \n",
       "98   2RA132                                    Master cylindre       1D1A3   \n",
       "113     RC2                     Bouchon de remplissage d'huile      1A20B2   \n",
       "114     RC3                                 Joint pour bouchon     1D7D2A3   \n",
       "115     RC4          Joint collecteur echappement et admission      1D13S5   \n",
       "116     RC6                           Cartouche filtre a huile      1A14B1   \n",
       "118     RC8                            Element de filtre a air        1Z18   \n",
       "119     RC9                               Filtre a huile sinfa       1C8C3   \n",
       "120    RC10                         Element filtre a air sinfa      1A47H3   \n",
       "121    RC11                               Courroie ventilateur      1A26F3   \n",
       "\n",
       "     Qté Exist Prix U  Montant Exis U d'emploi Etat  \n",
       "27        1.00      0          0.00          U  NaN  \n",
       "98        1.00      0          0.00          U  NaN  \n",
       "113       3.00  64.37        193.11          U  NaN  \n",
       "114       4.00  10.35         41.40          U  NaN  \n",
       "115       2.00   4.56          9.12          U  NaN  \n",
       "116       0.00     45          0.00          U  NaN  \n",
       "118       0.00      0          0.00          U  NaN  \n",
       "119       0.00      0          0.00          U  NaN  \n",
       "120       0.00      0          0.00          U  NaN  \n",
       "121       0.00  22.71          0.00          U  NaN  "
      ]
     },
     "execution_count": 21,
     "metadata": {},
     "output_type": "execute_result"
    }
   ],
   "source": [
    "inv.head(10)"
   ]
  },
  {
   "cell_type": "code",
   "execution_count": null,
   "metadata": {},
   "outputs": [],
   "source": []
  }
 ],
 "metadata": {
  "kernelspec": {
   "display_name": "Python 3",
   "language": "python",
   "name": "python3"
  },
  "language_info": {
   "codemirror_mode": {
    "name": "ipython",
    "version": 3
   },
   "file_extension": ".py",
   "mimetype": "text/x-python",
   "name": "python",
   "nbconvert_exporter": "python",
   "pygments_lexer": "ipython3",
   "version": "3.8.2"
  }
 },
 "nbformat": 4,
 "nbformat_minor": 4
}
