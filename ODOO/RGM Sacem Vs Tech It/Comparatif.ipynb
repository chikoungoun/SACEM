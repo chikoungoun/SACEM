{
 "cells": [
  {
   "cell_type": "code",
   "execution_count": 1,
   "metadata": {},
   "outputs": [],
   "source": [
    "import pandas as pd\n",
    "import numpy as np\n",
    "pd.set_option('display.float_format', lambda x: '%.2f' % x)"
   ]
  },
  {
   "cell_type": "markdown",
   "metadata": {},
   "source": [
    "### Base SACEM"
   ]
  },
  {
   "cell_type": "code",
   "execution_count": 2,
   "metadata": {},
   "outputs": [],
   "source": [
    "sacem = pd.read_excel(\"RGM_Final.xlsx\")"
   ]
  },
  {
   "cell_type": "markdown",
   "metadata": {},
   "source": [
    "**Sorting the dataframe**"
   ]
  },
  {
   "cell_type": "code",
   "execution_count": 3,
   "metadata": {},
   "outputs": [],
   "source": [
    "sacem = sacem.sort_values(by=['Code Article'])"
   ]
  },
  {
   "cell_type": "code",
   "execution_count": 4,
   "metadata": {},
   "outputs": [],
   "source": [
    "sacem.reset_index(drop=True,inplace=True)"
   ]
  },
  {
   "cell_type": "code",
   "execution_count": 5,
   "metadata": {
    "scrolled": true
   },
   "outputs": [
    {
     "data": {
      "text/html": [
       "<div>\n",
       "<style scoped>\n",
       "    .dataframe tbody tr th:only-of-type {\n",
       "        vertical-align: middle;\n",
       "    }\n",
       "\n",
       "    .dataframe tbody tr th {\n",
       "        vertical-align: top;\n",
       "    }\n",
       "\n",
       "    .dataframe thead th {\n",
       "        text-align: right;\n",
       "    }\n",
       "</style>\n",
       "<table border=\"1\" class=\"dataframe\">\n",
       "  <thead>\n",
       "    <tr style=\"text-align: right;\">\n",
       "      <th></th>\n",
       "      <th>Compte de stock</th>\n",
       "      <th>Code Famille</th>\n",
       "      <th>Désignation  Famille</th>\n",
       "      <th>Code sous famille</th>\n",
       "      <th>Désignation Sous famille</th>\n",
       "      <th>Code Article</th>\n",
       "      <th>Désignation Article</th>\n",
       "      <th>Emplacement</th>\n",
       "      <th>Stock Physique</th>\n",
       "      <th>Prix</th>\n",
       "      <th>Montant EX</th>\n",
       "      <th>Unité</th>\n",
       "      <th>Etat</th>\n",
       "      <th>Unnamed: 13</th>\n",
       "    </tr>\n",
       "  </thead>\n",
       "  <tbody>\n",
       "    <tr>\n",
       "      <th>0</th>\n",
       "      <td>312212.00</td>\n",
       "      <td>S</td>\n",
       "      <td>MOTEURS</td>\n",
       "      <td>SH</td>\n",
       "      <td>Caterpillard</td>\n",
       "      <td>10SH107</td>\n",
       "      <td>AXE DE CDE REF 7B 5459</td>\n",
       "      <td>1D1G8B</td>\n",
       "      <td>2.00</td>\n",
       "      <td>0</td>\n",
       "      <td>0.00</td>\n",
       "      <td>U</td>\n",
       "      <td>*</td>\n",
       "      <td>nan</td>\n",
       "    </tr>\n",
       "    <tr>\n",
       "      <th>1</th>\n",
       "      <td>312212.00</td>\n",
       "      <td>S</td>\n",
       "      <td>MOTEURS</td>\n",
       "      <td>SH</td>\n",
       "      <td>Caterpillard</td>\n",
       "      <td>10SH109</td>\n",
       "      <td>Bague réf 8F 8523</td>\n",
       "      <td>1E36J1</td>\n",
       "      <td>29.00</td>\n",
       "      <td>0</td>\n",
       "      <td>0.00</td>\n",
       "      <td>U</td>\n",
       "      <td>NaN</td>\n",
       "      <td>nan</td>\n",
       "    </tr>\n",
       "    <tr>\n",
       "      <th>2</th>\n",
       "      <td>312212.00</td>\n",
       "      <td>S</td>\n",
       "      <td>MOTEURS</td>\n",
       "      <td>SH</td>\n",
       "      <td>Caterpillard</td>\n",
       "      <td>10SH111</td>\n",
       "      <td>BAGUE REF 1F6887</td>\n",
       "      <td>1C5F4F1</td>\n",
       "      <td>5.00</td>\n",
       "      <td>0</td>\n",
       "      <td>0.00</td>\n",
       "      <td>U</td>\n",
       "      <td>*</td>\n",
       "      <td>nan</td>\n",
       "    </tr>\n",
       "  </tbody>\n",
       "</table>\n",
       "</div>"
      ],
      "text/plain": [
       "   Compte de stock Code Famille Désignation  Famille Code sous famille   \\\n",
       "0        312212.00            S              MOTEURS                 SH   \n",
       "1        312212.00            S              MOTEURS                 SH   \n",
       "2        312212.00            S              MOTEURS                 SH   \n",
       "\n",
       "  Désignation Sous famille Code Article     Désignation Article Emplacement  \\\n",
       "0            Caterpillard       10SH107  AXE DE CDE REF 7B 5459      1D1G8B   \n",
       "1            Caterpillard       10SH109       Bague réf 8F 8523      1E36J1   \n",
       "2            Caterpillard       10SH111        BAGUE REF 1F6887     1C5F4F1   \n",
       "\n",
       "   Stock Physique Prix  Montant EX Unité Etat  Unnamed: 13  \n",
       "0            2.00    0        0.00     U    *          nan  \n",
       "1           29.00    0        0.00     U  NaN          nan  \n",
       "2            5.00    0        0.00     U    *          nan  "
      ]
     },
     "execution_count": 5,
     "metadata": {},
     "output_type": "execute_result"
    }
   ],
   "source": [
    "sacem.head(3)"
   ]
  },
  {
   "cell_type": "code",
   "execution_count": 6,
   "metadata": {},
   "outputs": [
    {
     "data": {
      "text/plain": [
       "(4596, 14)"
      ]
     },
     "execution_count": 6,
     "metadata": {},
     "output_type": "execute_result"
    }
   ],
   "source": [
    "sacem.shape"
   ]
  },
  {
   "cell_type": "markdown",
   "metadata": {},
   "source": [
    "### Base Rachad"
   ]
  },
  {
   "cell_type": "code",
   "execution_count": 7,
   "metadata": {},
   "outputs": [],
   "source": [
    "rachad = pd.read_excel(\"RGM_Rachad.xls\")"
   ]
  },
  {
   "cell_type": "code",
   "execution_count": 8,
   "metadata": {},
   "outputs": [],
   "source": [
    "rachad = rachad.sort_values(by=['Code Article'])"
   ]
  },
  {
   "cell_type": "code",
   "execution_count": 9,
   "metadata": {},
   "outputs": [],
   "source": [
    "rachad.reset_index(drop=True,inplace=True)"
   ]
  },
  {
   "cell_type": "code",
   "execution_count": 10,
   "metadata": {},
   "outputs": [
    {
     "data": {
      "text/html": [
       "<div>\n",
       "<style scoped>\n",
       "    .dataframe tbody tr th:only-of-type {\n",
       "        vertical-align: middle;\n",
       "    }\n",
       "\n",
       "    .dataframe tbody tr th {\n",
       "        vertical-align: top;\n",
       "    }\n",
       "\n",
       "    .dataframe thead th {\n",
       "        text-align: right;\n",
       "    }\n",
       "</style>\n",
       "<table border=\"1\" class=\"dataframe\">\n",
       "  <thead>\n",
       "    <tr style=\"text-align: right;\">\n",
       "      <th></th>\n",
       "      <th>id Odoo</th>\n",
       "      <th>Nom</th>\n",
       "      <th>Code Article</th>\n",
       "      <th>Type d'article</th>\n",
       "      <th>Catégorie interne/Nom affiché</th>\n",
       "      <th>Unité de mesure/Nom affiché</th>\n",
       "      <th>Coût</th>\n",
       "      <th>Quantité en stock</th>\n",
       "      <th>Valeur de stock</th>\n",
       "      <th>Emplacement/Display Name</th>\n",
       "    </tr>\n",
       "  </thead>\n",
       "  <tbody>\n",
       "    <tr>\n",
       "      <th>0</th>\n",
       "      <td>__export__.product_template_18213</td>\n",
       "      <td>AXE DE CDE REF 7B 5459</td>\n",
       "      <td>10SH107</td>\n",
       "      <td>Produit stockable</td>\n",
       "      <td>S--&gt;MOTEURS  / SH--&gt;Caterpillard</td>\n",
       "      <td>U</td>\n",
       "      <td>0.00</td>\n",
       "      <td>2</td>\n",
       "      <td>0.00</td>\n",
       "      <td>1D1G8B</td>\n",
       "    </tr>\n",
       "    <tr>\n",
       "      <th>1</th>\n",
       "      <td>__export__.product_template_18215</td>\n",
       "      <td>Bague réf 8F 8523</td>\n",
       "      <td>10SH109</td>\n",
       "      <td>Produit stockable</td>\n",
       "      <td>S--&gt;MOTEURS  / SH--&gt;Caterpillard</td>\n",
       "      <td>U</td>\n",
       "      <td>0.00</td>\n",
       "      <td>29</td>\n",
       "      <td>0.00</td>\n",
       "      <td>1E36J1</td>\n",
       "    </tr>\n",
       "    <tr>\n",
       "      <th>2</th>\n",
       "      <td>__export__.product_template_18216</td>\n",
       "      <td>BAGUE REF 1F6887</td>\n",
       "      <td>10SH111</td>\n",
       "      <td>Produit stockable</td>\n",
       "      <td>S--&gt;MOTEURS  / SH--&gt;Caterpillard</td>\n",
       "      <td>U</td>\n",
       "      <td>0.00</td>\n",
       "      <td>5</td>\n",
       "      <td>0.00</td>\n",
       "      <td>1C5F4F1</td>\n",
       "    </tr>\n",
       "  </tbody>\n",
       "</table>\n",
       "</div>"
      ],
      "text/plain": [
       "                             id Odoo                     Nom Code Article  \\\n",
       "0  __export__.product_template_18213  AXE DE CDE REF 7B 5459      10SH107   \n",
       "1  __export__.product_template_18215       Bague réf 8F 8523      10SH109   \n",
       "2  __export__.product_template_18216        BAGUE REF 1F6887      10SH111   \n",
       "\n",
       "      Type d'article       Catégorie interne/Nom affiché  \\\n",
       "0  Produit stockable  S-->MOTEURS  / SH-->Caterpillard     \n",
       "1  Produit stockable  S-->MOTEURS  / SH-->Caterpillard     \n",
       "2  Produit stockable  S-->MOTEURS  / SH-->Caterpillard     \n",
       "\n",
       "  Unité de mesure/Nom affiché  Coût  Quantité en stock  Valeur de stock  \\\n",
       "0                           U  0.00                  2             0.00   \n",
       "1                           U  0.00                 29             0.00   \n",
       "2                           U  0.00                  5             0.00   \n",
       "\n",
       "  Emplacement/Display Name  \n",
       "0                   1D1G8B  \n",
       "1                   1E36J1  \n",
       "2                  1C5F4F1  "
      ]
     },
     "execution_count": 10,
     "metadata": {},
     "output_type": "execute_result"
    }
   ],
   "source": [
    "rachad.head(3)"
   ]
  },
  {
   "cell_type": "code",
   "execution_count": 11,
   "metadata": {},
   "outputs": [
    {
     "data": {
      "text/plain": [
       "(4595, 10)"
      ]
     },
     "execution_count": 11,
     "metadata": {},
     "output_type": "execute_result"
    }
   ],
   "source": [
    "rachad.shape"
   ]
  },
  {
   "cell_type": "markdown",
   "metadata": {},
   "source": [
    "## Compare the 2 Datasets"
   ]
  },
  {
   "cell_type": "code",
   "execution_count": 12,
   "metadata": {},
   "outputs": [],
   "source": [
    "slist = sacem['Code Article'].values.tolist()"
   ]
  },
  {
   "cell_type": "code",
   "execution_count": 13,
   "metadata": {},
   "outputs": [
    {
     "data": {
      "text/plain": [
       "4596"
      ]
     },
     "execution_count": 13,
     "metadata": {},
     "output_type": "execute_result"
    }
   ],
   "source": [
    "len(slist)"
   ]
  },
  {
   "cell_type": "code",
   "execution_count": 14,
   "metadata": {},
   "outputs": [],
   "source": [
    "rlist = rachad['Code Article'].values.tolist()"
   ]
  },
  {
   "cell_type": "code",
   "execution_count": 15,
   "metadata": {},
   "outputs": [
    {
     "data": {
      "text/plain": [
       "4595"
      ]
     },
     "execution_count": 15,
     "metadata": {},
     "output_type": "execute_result"
    }
   ],
   "source": [
    "len(rlist)"
   ]
  },
  {
   "cell_type": "code",
   "execution_count": 16,
   "metadata": {},
   "outputs": [
    {
     "data": {
      "text/plain": [
       "{nan}"
      ]
     },
     "execution_count": 16,
     "metadata": {},
     "output_type": "execute_result"
    }
   ],
   "source": [
    "set(slist) - set(rlist)"
   ]
  },
  {
   "cell_type": "markdown",
   "metadata": {},
   "source": [
    "## Merge the 2 lists"
   ]
  },
  {
   "cell_type": "code",
   "execution_count": 18,
   "metadata": {},
   "outputs": [],
   "source": [
    "merged = pd.merge(sacem,rachad,on=['Code Article'])"
   ]
  },
  {
   "cell_type": "code",
   "execution_count": 19,
   "metadata": {},
   "outputs": [
    {
     "data": {
      "text/plain": [
       "(4595, 23)"
      ]
     },
     "execution_count": 19,
     "metadata": {},
     "output_type": "execute_result"
    }
   ],
   "source": [
    "merged.shape"
   ]
  },
  {
   "cell_type": "code",
   "execution_count": 20,
   "metadata": {},
   "outputs": [
    {
     "data": {
      "text/html": [
       "<div>\n",
       "<style scoped>\n",
       "    .dataframe tbody tr th:only-of-type {\n",
       "        vertical-align: middle;\n",
       "    }\n",
       "\n",
       "    .dataframe tbody tr th {\n",
       "        vertical-align: top;\n",
       "    }\n",
       "\n",
       "    .dataframe thead th {\n",
       "        text-align: right;\n",
       "    }\n",
       "</style>\n",
       "<table border=\"1\" class=\"dataframe\">\n",
       "  <thead>\n",
       "    <tr style=\"text-align: right;\">\n",
       "      <th></th>\n",
       "      <th>Compte de stock</th>\n",
       "      <th>Code Famille</th>\n",
       "      <th>Désignation  Famille</th>\n",
       "      <th>Code sous famille</th>\n",
       "      <th>Désignation Sous famille</th>\n",
       "      <th>Code Article</th>\n",
       "      <th>Désignation Article</th>\n",
       "      <th>Emplacement</th>\n",
       "      <th>Stock Physique</th>\n",
       "      <th>Prix</th>\n",
       "      <th>...</th>\n",
       "      <th>Unnamed: 13</th>\n",
       "      <th>id Odoo</th>\n",
       "      <th>Nom</th>\n",
       "      <th>Type d'article</th>\n",
       "      <th>Catégorie interne/Nom affiché</th>\n",
       "      <th>Unité de mesure/Nom affiché</th>\n",
       "      <th>Coût</th>\n",
       "      <th>Quantité en stock</th>\n",
       "      <th>Valeur de stock</th>\n",
       "      <th>Emplacement/Display Name</th>\n",
       "    </tr>\n",
       "  </thead>\n",
       "  <tbody>\n",
       "    <tr>\n",
       "      <th>0</th>\n",
       "      <td>312212.00</td>\n",
       "      <td>S</td>\n",
       "      <td>MOTEURS</td>\n",
       "      <td>SH</td>\n",
       "      <td>Caterpillard</td>\n",
       "      <td>10SH107</td>\n",
       "      <td>AXE DE CDE REF 7B 5459</td>\n",
       "      <td>1D1G8B</td>\n",
       "      <td>2.00</td>\n",
       "      <td>0</td>\n",
       "      <td>...</td>\n",
       "      <td>nan</td>\n",
       "      <td>__export__.product_template_18213</td>\n",
       "      <td>AXE DE CDE REF 7B 5459</td>\n",
       "      <td>Produit stockable</td>\n",
       "      <td>S--&gt;MOTEURS  / SH--&gt;Caterpillard</td>\n",
       "      <td>U</td>\n",
       "      <td>0.00</td>\n",
       "      <td>2</td>\n",
       "      <td>0.00</td>\n",
       "      <td>1D1G8B</td>\n",
       "    </tr>\n",
       "    <tr>\n",
       "      <th>1</th>\n",
       "      <td>312212.00</td>\n",
       "      <td>S</td>\n",
       "      <td>MOTEURS</td>\n",
       "      <td>SH</td>\n",
       "      <td>Caterpillard</td>\n",
       "      <td>10SH109</td>\n",
       "      <td>Bague réf 8F 8523</td>\n",
       "      <td>1E36J1</td>\n",
       "      <td>29.00</td>\n",
       "      <td>0</td>\n",
       "      <td>...</td>\n",
       "      <td>nan</td>\n",
       "      <td>__export__.product_template_18215</td>\n",
       "      <td>Bague réf 8F 8523</td>\n",
       "      <td>Produit stockable</td>\n",
       "      <td>S--&gt;MOTEURS  / SH--&gt;Caterpillard</td>\n",
       "      <td>U</td>\n",
       "      <td>0.00</td>\n",
       "      <td>29</td>\n",
       "      <td>0.00</td>\n",
       "      <td>1E36J1</td>\n",
       "    </tr>\n",
       "    <tr>\n",
       "      <th>2</th>\n",
       "      <td>312212.00</td>\n",
       "      <td>S</td>\n",
       "      <td>MOTEURS</td>\n",
       "      <td>SH</td>\n",
       "      <td>Caterpillard</td>\n",
       "      <td>10SH111</td>\n",
       "      <td>BAGUE REF 1F6887</td>\n",
       "      <td>1C5F4F1</td>\n",
       "      <td>5.00</td>\n",
       "      <td>0</td>\n",
       "      <td>...</td>\n",
       "      <td>nan</td>\n",
       "      <td>__export__.product_template_18216</td>\n",
       "      <td>BAGUE REF 1F6887</td>\n",
       "      <td>Produit stockable</td>\n",
       "      <td>S--&gt;MOTEURS  / SH--&gt;Caterpillard</td>\n",
       "      <td>U</td>\n",
       "      <td>0.00</td>\n",
       "      <td>5</td>\n",
       "      <td>0.00</td>\n",
       "      <td>1C5F4F1</td>\n",
       "    </tr>\n",
       "    <tr>\n",
       "      <th>3</th>\n",
       "      <td>312212.00</td>\n",
       "      <td>S</td>\n",
       "      <td>MOTEURS</td>\n",
       "      <td>SH</td>\n",
       "      <td>Caterpillard</td>\n",
       "      <td>10SH112</td>\n",
       "      <td>BAGUE REF 8F 9808</td>\n",
       "      <td>1E32D1</td>\n",
       "      <td>7.00</td>\n",
       "      <td>0</td>\n",
       "      <td>...</td>\n",
       "      <td>nan</td>\n",
       "      <td>__export__.product_template_18217</td>\n",
       "      <td>BAGUE REF 8F 9808</td>\n",
       "      <td>Produit stockable</td>\n",
       "      <td>S--&gt;MOTEURS  / SH--&gt;Caterpillard</td>\n",
       "      <td>U</td>\n",
       "      <td>0.00</td>\n",
       "      <td>7</td>\n",
       "      <td>0.00</td>\n",
       "      <td>1E32D1</td>\n",
       "    </tr>\n",
       "    <tr>\n",
       "      <th>4</th>\n",
       "      <td>312212.00</td>\n",
       "      <td>S</td>\n",
       "      <td>MOTEURS</td>\n",
       "      <td>SH</td>\n",
       "      <td>Caterpillard</td>\n",
       "      <td>10SH113</td>\n",
       "      <td>BATI REF 8B 4990</td>\n",
       "      <td>1C12A6</td>\n",
       "      <td>1.00</td>\n",
       "      <td>0</td>\n",
       "      <td>...</td>\n",
       "      <td>nan</td>\n",
       "      <td>__export__.product_template_18218</td>\n",
       "      <td>BATI REF 8B 4990</td>\n",
       "      <td>Produit stockable</td>\n",
       "      <td>S--&gt;MOTEURS  / SH--&gt;Caterpillard</td>\n",
       "      <td>U</td>\n",
       "      <td>0.00</td>\n",
       "      <td>1</td>\n",
       "      <td>0.00</td>\n",
       "      <td>1C12A6</td>\n",
       "    </tr>\n",
       "  </tbody>\n",
       "</table>\n",
       "<p>5 rows × 23 columns</p>\n",
       "</div>"
      ],
      "text/plain": [
       "   Compte de stock Code Famille Désignation  Famille Code sous famille   \\\n",
       "0        312212.00            S              MOTEURS                 SH   \n",
       "1        312212.00            S              MOTEURS                 SH   \n",
       "2        312212.00            S              MOTEURS                 SH   \n",
       "3        312212.00            S              MOTEURS                 SH   \n",
       "4        312212.00            S              MOTEURS                 SH   \n",
       "\n",
       "  Désignation Sous famille Code Article     Désignation Article Emplacement  \\\n",
       "0            Caterpillard       10SH107  AXE DE CDE REF 7B 5459      1D1G8B   \n",
       "1            Caterpillard       10SH109       Bague réf 8F 8523      1E36J1   \n",
       "2            Caterpillard       10SH111        BAGUE REF 1F6887     1C5F4F1   \n",
       "3            Caterpillard       10SH112       BAGUE REF 8F 9808      1E32D1   \n",
       "4            Caterpillard       10SH113        BATI REF 8B 4990      1C12A6   \n",
       "\n",
       "   Stock Physique Prix  ...  Unnamed: 13                            id Odoo  \\\n",
       "0            2.00    0  ...          nan  __export__.product_template_18213   \n",
       "1           29.00    0  ...          nan  __export__.product_template_18215   \n",
       "2            5.00    0  ...          nan  __export__.product_template_18216   \n",
       "3            7.00    0  ...          nan  __export__.product_template_18217   \n",
       "4            1.00    0  ...          nan  __export__.product_template_18218   \n",
       "\n",
       "                      Nom     Type d'article  \\\n",
       "0  AXE DE CDE REF 7B 5459  Produit stockable   \n",
       "1       Bague réf 8F 8523  Produit stockable   \n",
       "2        BAGUE REF 1F6887  Produit stockable   \n",
       "3       BAGUE REF 8F 9808  Produit stockable   \n",
       "4        BATI REF 8B 4990  Produit stockable   \n",
       "\n",
       "        Catégorie interne/Nom affiché Unité de mesure/Nom affiché Coût  \\\n",
       "0  S-->MOTEURS  / SH-->Caterpillard                             U 0.00   \n",
       "1  S-->MOTEURS  / SH-->Caterpillard                             U 0.00   \n",
       "2  S-->MOTEURS  / SH-->Caterpillard                             U 0.00   \n",
       "3  S-->MOTEURS  / SH-->Caterpillard                             U 0.00   \n",
       "4  S-->MOTEURS  / SH-->Caterpillard                             U 0.00   \n",
       "\n",
       "  Quantité en stock Valeur de stock  Emplacement/Display Name  \n",
       "0                 2            0.00                    1D1G8B  \n",
       "1                29            0.00                    1E36J1  \n",
       "2                 5            0.00                   1C5F4F1  \n",
       "3                 7            0.00                    1E32D1  \n",
       "4                 1            0.00                    1C12A6  \n",
       "\n",
       "[5 rows x 23 columns]"
      ]
     },
     "execution_count": 20,
     "metadata": {},
     "output_type": "execute_result"
    }
   ],
   "source": [
    "merged.head()"
   ]
  },
  {
   "cell_type": "code",
   "execution_count": 21,
   "metadata": {},
   "outputs": [],
   "source": [
    "merged.to_excel(\"RGM_Merged.xlsx\")"
   ]
  },
  {
   "cell_type": "code",
   "execution_count": null,
   "metadata": {},
   "outputs": [],
   "source": []
  }
 ],
 "metadata": {
  "kernelspec": {
   "display_name": "Python 3",
   "language": "python",
   "name": "python3"
  },
  "language_info": {
   "codemirror_mode": {
    "name": "ipython",
    "version": 3
   },
   "file_extension": ".py",
   "mimetype": "text/x-python",
   "name": "python",
   "nbconvert_exporter": "python",
   "pygments_lexer": "ipython3",
   "version": "3.8.2"
  }
 },
 "nbformat": 4,
 "nbformat_minor": 4
}
